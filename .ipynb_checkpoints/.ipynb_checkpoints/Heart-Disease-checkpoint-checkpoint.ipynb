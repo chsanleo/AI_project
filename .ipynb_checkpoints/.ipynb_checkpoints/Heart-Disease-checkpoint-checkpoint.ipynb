{
 "cells": [
  {
   "cell_type": "markdown",
   "metadata": {},
   "source": [
    "# Heart-Disease-Dataset\n",
    "## UCI Cleveland Heart disease dataset"
   ]
  },
  {
   "cell_type": "markdown",
   "metadata": {},
   "source": [
    "The Heart-Disease-Dataset database consists of 76 attributes, but only a subset of 14 attributes has been utilized in all published experiments thus far. Among these experiments, ML researchers have exclusively employed the Cleveland database. The attribute labeled \"goal\" indicates the presence of heart disease in a patient and is represented by an integer ranging from 0 (indicating no presence) to 4. Previous studies conducted using the Cleveland database have primarily focused on distinguishing between the presence (values 1, 2, 3, 4) and absence (value 0) of heart disease.\n",
    "\n",
    "\n",
    "https://www.kaggle.com/datasets/ineubytes/heart-disease-dataset"
   ]
  },
  {
   "cell_type": "markdown",
   "metadata": {},
   "source": [
    "Variables explanation: \n",
    "\n",
    "- age => age in years\n",
    "- sex => (1 = male; 0 = female)\n",
    "- cp => chest pain type (4 values)\n",
    "- trestbps => resting blood pressure (in mm Hg on admission to the hospital)\n",
    "- chol => serum cholestoral in mg/dl\n",
    "- fbs => (fasting blood sugar &gt; 120 mg/dl) (1 = true; 0 = false)\n",
    "- restecg => resting electrocardiographic results\n",
    "- thalach => maximum heart rate achieved\n",
    "- exang => exercise induced angina (1 = yes; 0 = no)\n",
    "- oldpeak => ST depression induced by exercise relative to rest\n",
    "- slope => the slope of the peak exercise ST segment\n",
    "- ca => number of major vessels (0-3) colored by flourosopy\n",
    "- thal => 0 = normal; 1 = fixed defect; 2 = reversable defect\n",
    "- target => 0 absence heart disease"
   ]
  },
  {
   "cell_type": "code",
   "execution_count": 1,
   "metadata": {},
   "outputs": [],
   "source": [
    "# Load info"
   ]
  }
 ],
 "metadata": {
  "kernelspec": {
   "display_name": "Python 3",
   "language": "python",
   "name": "python3"
  },
  "language_info": {
   "codemirror_mode": {
    "name": "ipython",
    "version": 3
   },
   "file_extension": ".py",
   "mimetype": "text/x-python",
   "name": "python",
   "nbconvert_exporter": "python",
   "pygments_lexer": "ipython3",
   "version": "3.8.2"
  }
 },
 "nbformat": 4,
 "nbformat_minor": 4
}
